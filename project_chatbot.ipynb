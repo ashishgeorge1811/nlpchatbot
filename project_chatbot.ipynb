{
  "nbformat": 4,
  "nbformat_minor": 0,
  "metadata": {
    "colab": {
      "name": " project_chatbot.ipynb",
      "provenance": [],
      "collapsed_sections": [],
      "authorship_tag": "ABX9TyNi/2Lf31bOBBpAC0Ra16KO",
      "include_colab_link": true
    },
    "kernelspec": {
      "name": "python3",
      "display_name": "Python 3"
    }
  },
  "cells": [
    {
      "cell_type": "markdown",
      "metadata": {
        "id": "view-in-github",
        "colab_type": "text"
      },
      "source": [
        "<a href=\"https://colab.research.google.com/github/ashishgeorge1811/nlpchatbot/blob/master/project_chatbot.ipynb\" target=\"_parent\"><img src=\"https://colab.research.google.com/assets/colab-badge.svg\" alt=\"Open In Colab\"/></a>"
      ]
    },
    {
      "cell_type": "code",
      "metadata": {
        "id": "3AqLh-2pITF5",
        "colab_type": "code",
        "colab": {}
      },
      "source": [
        "import nltk\n",
        "import numpy as np\n",
        "import random\n",
        "import string\n",
        "import re\n",
        "nltk.download('all')"
      ],
      "execution_count": null,
      "outputs": []
    },
    {
      "cell_type": "code",
      "metadata": {
        "id": "BKCEo-TTsfdo",
        "colab_type": "code",
        "colab": {}
      },
      "source": [
        "article_text =(\"Football (or soccer as the game is called in some parts of the world) has a long history. Football in its current form arose in England in the middle of the 19th century. But alternative versions of the game existed much earlier and are a part of the football history.The first known examples of a team game involving a ball, which was made out of a rock, occurred in old Mesoamerican cultures for over 3,000 years ago. According to the sources, the ball would symbolize the sun and the captain of the losing team would be sacrificed to the gods. The first known ball game which also involved kicking took place In China in the 3rd and 2nd century BC under the name Cuju. Cuju was played with a round ball on an area of a square. It later spread to Japan and was practiced under ceremonial forms.Other earlier variety of ball games had been known from Ancient Greece. The ball was made by shreds of leather filled with hair (the first documents of balls filled with air are from the 7th century). In the Ancient Rome, games with balls were not included in the entertainment on the big arenas, but could occur in exercises in the military. It was the Roman culture that would bring football to the British island (Britannica). It is, however, uncertain in which degree the British people were influenced by this variety and in which degree they had developed their own variants. The most admitted story tells that the game was developed in England in the 12th century. In this century, games that resembled football were played on meadows and roads in England. Besides from kicks, the game involved also punches of the ball with the fist. This early form of football was also much more rough and violent than the modern way of playing. An important feature of the forerunners to football was that the games involved plenty of people and took place over large areas in towns (an equivalent was played in Florence from the 16th century where it was called Calcio). The rampage of these games would cause damage on the town and sometimes death. These would be among the reasons for the proclamations against the game that finally was forbidden for several centuries. But the football-like games would return to the streets of London in the 17th century. It would be forbidden again in 1835, but at this stage the game had been established in the public schools.It took, however, long time until the features of today’s football had been taken into practice. For a long time there was no clear distinction between football and rugby. There were also many variations concerning the size of the ball, the number of players and the length of a match.\" )"
      ],
      "execution_count": 155,
      "outputs": []
    },
    {
      "cell_type": "code",
      "metadata": {
        "id": "tO66ee7DOEUO",
        "colab_type": "code",
        "colab": {}
      },
      "source": [
        "#Q:convert the article_text to small letters\n",
        "article_text = "
      ],
      "execution_count": null,
      "outputs": []
    },
    {
      "cell_type": "code",
      "metadata": {
        "id": "lHWACRHYMsOi",
        "colab_type": "code",
        "colab": {}
      },
      "source": [
        "article_sentences = nltk.sent_tokenize(article_text)\n",
        "article_words = nltk.word_tokenize(article_text)"
      ],
      "execution_count": 157,
      "outputs": []
    },
    {
      "cell_type": "code",
      "metadata": {
        "id": "_Sch1t9zMsRe",
        "colab_type": "code",
        "colab": {}
      },
      "source": [
        "#Q: import WordNet Lemmatizer from nltk\n",
        "\n",
        "wnlemmatizer = WordNetLemmatizer()\n",
        "\n",
        "def perform_lemmatization(tokens):\n",
        "    return [wnlemmatizer.lemmatize(token) for token in tokens]\n",
        "\n",
        "punctuation_removal = dict((ord(punctuation), None) for punctuation in string.punctuation)\n",
        "\n",
        "def get_processed_text(document):\n",
        "    return perform_lemmatization(nltk.word_tokenize(document.lower().translate(punctuation_removal)))"
      ],
      "execution_count": 158,
      "outputs": []
    },
    {
      "cell_type": "code",
      "metadata": {
        "id": "z1EoOcHVsjOP",
        "colab_type": "code",
        "colab": {}
      },
      "source": [
        ""
      ],
      "execution_count": 158,
      "outputs": []
    },
    {
      "cell_type": "code",
      "metadata": {
        "id": "ufmcRs6zkad7",
        "colab_type": "code",
        "colab": {}
      },
      "source": [
        "#Q:Add more greeting inputs such as 'wassup','hey','hola'\n",
        "GREETING_INPUTS = ('hi','hello')\n",
        "# Q:assign the greeting responses as 'hi','hello','I am glad! You are talking to me','hey'\n",
        "GREETING_RESPONSES = []\n",
        "def greeting(sentence):\n",
        " \n",
        "    for word in sentence.split():\n",
        "        if word.lower() in GREETING_INPUTS:\n",
        "            return random.choice(GREETING_RESPONSES)"
      ],
      "execution_count": 159,
      "outputs": []
    },
    {
      "cell_type": "code",
      "metadata": {
        "id": "dDDQI6rxskbD",
        "colab_type": "code",
        "colab": {}
      },
      "source": [
        ""
      ],
      "execution_count": 159,
      "outputs": []
    },
    {
      "cell_type": "code",
      "metadata": {
        "id": "31ZwRYkure3V",
        "colab_type": "code",
        "colab": {}
      },
      "source": [
        "#Q: import Tfidf Vectorizer and cosine similarity\n",
        "from sklearn.feature_extraction.text import  \n",
        "from sklearn.metrics.pairwise import"
      ],
      "execution_count": 160,
      "outputs": []
    },
    {
      "cell_type": "code",
      "metadata": {
        "id": "D2vVXlVaMsZh",
        "colab_type": "code",
        "colab": {}
      },
      "source": [
        "def generate_response(human_text):\n",
        "    robo_response = ''\n",
        "    article_sentences.append(human_text)\n",
        "    word_vectorizer = TfidfVectorizer()\n",
        "    all_word_vectors = word_vectorizer.fit_transform(article_sentences)\n",
        "    similar_vector_values = cosine_similarity(all_word_vectors[-1], all_word_vectors)\n",
        "    similar_sentence_number = similar_vector_values.argsort()[0][-2]\n",
        "\n",
        "    matched_vector = similar_vector_values.flatten()\n",
        "    matched_vector.sort()\n",
        "    vector_matched = matched_vector[-2]\n",
        "\n",
        "    if vector_matched == 0:\n",
        "        robo_response = robo_response + \"I am sorry, I could not understand you\"\n",
        "        return robo_response\n",
        "    else:\n",
        "        robo_response = robo_response + article_sentences[similar_sentence_number]\n",
        "        return robo_response"
      ],
      "execution_count": 161,
      "outputs": []
    },
    {
      "cell_type": "code",
      "metadata": {
        "id": "pA-JjVfpkMxe",
        "colab_type": "code",
        "colab": {}
      },
      "source": [
        ""
      ],
      "execution_count": 161,
      "outputs": []
    },
    {
      "cell_type": "code",
      "metadata": {
        "id": "UegMnSbnMsqx",
        "colab_type": "code",
        "colab": {}
      },
      "source": [
        "flag = True\n",
        "print(\"Hello, I am your friend Football Robo. You can ask me questions related tofootball history:\")\n",
        "while(flag == True):\n",
        "    human_text = input()\n",
        "    human_text = human_text.lower()\n",
        "    if human_text != 'bye':\n",
        "        if human_text == 'thanks' or human_text == 'thank you very much' or human_text == 'thank you':\n",
        "            flag = False\n",
        "            print(\"Robo: Most welcome\")\n",
        "        else:\n",
        "            if greeting(human_text) != None:\n",
        "                print(\"Robo: \" + greeting(human_text))\n",
        "            else:\n",
        "                print(\"Robo: \", end=\"\")\n",
        "                print(generate_response(human_text))\n",
        "                article_sentences.remove(human_text)\n",
        "    else:\n",
        "        flag = False\n",
        "        print(\"Robo: Good bye and take care of yourself...\")"
      ],
      "execution_count": null,
      "outputs": []
    },
    {
      "cell_type": "code",
      "metadata": {
        "id": "T6W7l1trQtnS",
        "colab_type": "code",
        "colab": {}
      },
      "source": [
        "#QUESTIONS NEED TO ASK THE ROBO\n",
        "1.WHERE WAS THE GAME DEVELOPED\n",
        "2.WHAT WAS THE BALL MADE OF\n",
        "3.WHEN THE FIRST FOOTBALL MATCH TOOK PLACE\n",
        "4.WHAT WAS THE IMPORTANT FEATURE OF FOOTBALL"
      ],
      "execution_count": null,
      "outputs": []
    }
  ]
}